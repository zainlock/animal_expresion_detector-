{
 "cells": [
  {
   "cell_type": "code",
   "execution_count": null,
   "id": "7f177dac-70cd-40c2-9570-fe17af419735",
   "metadata": {},
   "outputs": [],
   "source": []
  }
 ],
 "metadata": {
  "kernelspec": {
   "display_name": "Python 3 (ipykernel)",
   "language": "python",
   "name": "python3"
  },
  "language_info": {
   "name": ""
  }
 },
 "nbformat": 4,
 "nbformat_minor": 5
}
